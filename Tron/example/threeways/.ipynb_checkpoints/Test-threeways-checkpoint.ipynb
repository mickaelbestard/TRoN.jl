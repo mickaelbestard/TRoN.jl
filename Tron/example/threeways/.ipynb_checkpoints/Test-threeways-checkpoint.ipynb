{
 "cells": [
  {
   "cell_type": "markdown",
   "metadata": {},
   "source": [
    "### WARNING : launch Test_Threeways.jl before executing this Notebook"
   ]
  },
  {
   "cell_type": "code",
   "execution_count": 1,
   "metadata": {},
   "outputs": [
    {
     "name": "stdout",
     "output_type": "stream",
     "text": [
      "load Utils.jl\n"
     ]
    },
    {
     "name": "stderr",
     "output_type": "stream",
     "text": [
      "┌ Info: Precompiling Tron [f5ab73be-b3fb-4d4d-96cc-0b34c674500b]\n",
      "└ @ Base loading.jl:1423\n",
      "\u001b[33m\u001b[1m┌ \u001b[22m\u001b[39m\u001b[33m\u001b[1mWarning: \u001b[22m\u001b[39mPackage Tron does not have PreallocationTools in its dependencies:\n",
      "\u001b[33m\u001b[1m│ \u001b[22m\u001b[39m- If you have Tron checked out for development and have\n",
      "\u001b[33m\u001b[1m│ \u001b[22m\u001b[39m  added PreallocationTools as a dependency but haven't updated your primary\n",
      "\u001b[33m\u001b[1m│ \u001b[22m\u001b[39m  environment's manifest file, try `Pkg.resolve()`.\n",
      "\u001b[33m\u001b[1m│ \u001b[22m\u001b[39m- Otherwise you may need to report an issue with Tron\n",
      "\u001b[33m\u001b[1m└ \u001b[22m\u001b[39mLoading PreallocationTools into Tron from project dependency, future warnings for Tron are suppressed.\n"
     ]
    }
   ],
   "source": [
    "using Tron"
   ]
  },
  {
   "cell_type": "markdown",
   "metadata": {},
   "source": [
    "## PARAMETERS"
   ]
  },
  {
   "cell_type": "code",
   "execution_count": 2,
   "metadata": {},
   "outputs": [
    {
     "data": {
      "text/plain": [
       "\"GDFP\""
      ]
     },
     "execution_count": 2,
     "metadata": {},
     "output_type": "execute_result"
    }
   ],
   "source": [
    "final_time = 30.\n",
    "optimizer = nothing\n",
    "Net = threeways_graph(1., 23) \n",
    "g = Net.graph\n",
    "Nmax = 23\n",
    "Nc = 20;\n",
    "algo = \"GDFP\"\n",
    "# edgelabel=[\"$k\" for k in 1:length(edges(g))] \n",
    "# gplot(g, edgelabel=edgelabel, nodelabel=vertices(g)) "
   ]
  },
  {
   "cell_type": "code",
   "execution_count": 3,
   "metadata": {},
   "outputs": [
    {
     "data": {
      "text/plain": [
       "\"/home/mickael/Documents/PhD/Traffic/Dev/trafficroad/Tron/example/threeways\""
      ]
     },
     "execution_count": 3,
     "metadata": {},
     "output_type": "execute_result"
    }
   ],
   "source": [
    "pwd() "
   ]
  },
  {
   "cell_type": "code",
   "execution_count": 4,
   "metadata": {},
   "outputs": [
    {
     "data": {
      "text/plain": [
       "extend_lane (generic function with 3 methods)"
      ]
     },
     "execution_count": 4,
     "metadata": {},
     "output_type": "execute_result"
    }
   ],
   "source": [
    "#TODOO : à mettre en version générique dans Utils.jl\n",
    "function extend_lane(lane, Ne=23, Nc=Nc)\n",
    "    ext_lane = zeros(23*Nc)\n",
    "    for k in 1:Ne\n",
    "        for j in 1:Nc \n",
    "            ext_lane[(k-1)*Nc + 1 : k*Nc] .= lane[k]\n",
    "        end\n",
    "    end\n",
    "    return ext_lane\n",
    "end"
   ]
  },
  {
   "cell_type": "code",
   "execution_count": 5,
   "metadata": {},
   "outputs": [
    {
     "data": {
      "text/plain": [
       "\"/home/mickael/Documents/PhD/Traffic/Dev/trafficroad/Tron/example/threeways\""
      ]
     },
     "execution_count": 5,
     "metadata": {},
     "output_type": "execute_result"
    }
   ],
   "source": [
    "pwd()  "
   ]
  },
  {
   "cell_type": "markdown",
   "metadata": {},
   "source": [
    "# Visualization"
   ]
  },
  {
   "cell_type": "code",
   "execution_count": null,
   "metadata": {},
   "outputs": [],
   "source": []
  },
  {
   "cell_type": "code",
   "execution_count": 6,
   "metadata": {},
   "outputs": [],
   "source": [
    "# uopt = readdlm(\"./data/lane_00010111100000000000000/Nmax_$(Nmax)/u_opt.csv\") "
   ]
  },
  {
   "cell_type": "code",
   "execution_count": 7,
   "metadata": {},
   "outputs": [],
   "source": [
    "# ptab = []\n",
    "# xx=collect( range(0,stop=1.,length=size(uopt)[1]) ) \n",
    "# for rd in 1:size(uopt)[2]\n",
    "#     p = plot(xx, uopt[:,rd], title=\"road $rd\", legend=nothing) \n",
    "#     ylims!((-0.1,1.1))\n",
    "#     xlabel!(\"time\"); ylabel!(\"control\")\n",
    "#     push!(ptab, p)\n",
    "# end"
   ]
  },
  {
   "cell_type": "code",
   "execution_count": 8,
   "metadata": {
    "scrolled": true
   },
   "outputs": [],
   "source": [
    "# for k in [1, 10, 19]\n",
    "#     display(plot(ptab[k:min(k+8, 23)]...))\n",
    "#     savefig(\"control_$k.png\")\n",
    "# end"
   ]
  },
  {
   "cell_type": "markdown",
   "metadata": {},
   "source": [
    "## Testing intuitive solution"
   ]
  },
  {
   "cell_type": "code",
   "execution_count": 9,
   "metadata": {},
   "outputs": [],
   "source": [
    "# u_intuitive = zeros(size(uopt))\n",
    "\n",
    "# ### threeways\n",
    "# u_intuitive[:, 12:13] .= 1.\n",
    "# u_intuitive[:, 18:19] .= 1.\n",
    "\n",
    "# u_intuitive"
   ]
  },
  {
   "cell_type": "code",
   "execution_count": 10,
   "metadata": {},
   "outputs": [
    {
     "name": "stdout",
     "output_type": "stream",
     "text": [
      "Δx = 0.05\n",
      "Δt = 0.025\n",
      "Nt = 1201\n"
     ]
    }
   ],
   "source": [
    "### threeways\n",
    "Opt = OptiNetwork(Net; Nmax=Nmax, cfl=0.5, Tf=final_time, Nc=Nc)\n",
    "lane = Bool.([0,1,0,1,0,1,1,1,1,1,0,0,0,0,0,0,0,0,0,0,0,0,0]) \n",
    "init_Optim(Opt) \n",
    "set_redlane(Opt, lane) "
   ]
  },
  {
   "cell_type": "code",
   "execution_count": 11,
   "metadata": {},
   "outputs": [],
   "source": [
    "# intuitive_ptab = []\n",
    "# xx=collect( range(0,stop=1.,length=size(uopt)[1]) ) \n",
    "# for rd in 1:size(u_intuitive)[2]\n",
    "#     p = plot(xx, u_intuitive[:,rd], title=\"road $rd\", legend=nothing) \n",
    "#     ylims!((-0.1,1.1))\n",
    "#     xlabel!(\"time\"); ylabel!(\"control\")\n",
    "#     push!(intuitive_ptab, p)\n",
    "# end"
   ]
  },
  {
   "cell_type": "code",
   "execution_count": 12,
   "metadata": {
    "scrolled": true
   },
   "outputs": [],
   "source": [
    "# for k in [1, 10, 19]\n",
    "#     display(plot(intuitive_ptab[k:min(k+8, 23)]...))\n",
    "# end\n",
    "# # plot(intuitive_ptab[1:end-1]...)"
   ]
  },
  {
   "cell_type": "markdown",
   "metadata": {},
   "source": [
    "## Plots (roads)"
   ]
  },
  {
   "cell_type": "code",
   "execution_count": 13,
   "metadata": {},
   "outputs": [],
   "source": [
    "#------- DENSITIES -------\n",
    "xr = [0 5 10 15 20 25 30 35 40 45 13 18 28 38 8 13 23 33]\n",
    "yr = [0 0 0 0 0 0 0 0 0 0 3 3 3 3 -3 -3 -3 -3]\n",
    "\n",
    "A_t = []; B_t = []; rd_num_t = []\n",
    "## main road\n",
    "push!(A_t, [0 0], [5 0], [10 0], [15 0], [20 0], [25 0], [30 0], [35 0], [40 0])\n",
    "push!(B_t, [5 0], [10 0], [15 0], [20 0], [25 0], [30 0], [35 0], [40 0], [45 0])\n",
    "push!(rd_num_t, 1,2,4,6,7,8,9,10,11)\n",
    "## upper side\n",
    "push!(A_t, [10 0], [13 3], [18 3], [28 3], [38 3], [18 3], [28 3])\n",
    "push!(B_t, [13 3], [18 3], [28 3], [38 3], [40 0], [20 0], [30 0])\n",
    "push!(rd_num_t, 5,18,20,22,23,19,21)\n",
    "## lower side\n",
    "push!(A_t, [5 0], [8 -3], [13 -3], [23 -3], [13 -3], [23 -3], [33 -3])\n",
    "push!(B_t, [8 -3], [13 -3], [23 -3], [33 -3], [15 0], [25 0], [35 0])\n",
    "push!(rd_num_t, 3,12,14,16,13,14,17);"
   ]
  },
  {
   "cell_type": "code",
   "execution_count": 14,
   "metadata": {},
   "outputs": [],
   "source": [
    "# j_int, _ = Jη(Opt, u= u_intuitive); ρ_intuitive = copy(Opt.ρ_t) \n",
    "# j_int"
   ]
  },
  {
   "cell_type": "code",
   "execution_count": 15,
   "metadata": {},
   "outputs": [],
   "source": [
    "# xlab = \"J(u) = $(round(j_int, digits=3))\"\n",
    "# plot_heatmap(Opt, xr, yr, A_t, B_t, rd_num_t, ρ_intuitive[end], \n",
    "#     filename=\"heatmap_threeways_intuitive.png\", xlab=xlab) "
   ]
  },
  {
   "cell_type": "code",
   "execution_count": 16,
   "metadata": {},
   "outputs": [],
   "source": [
    "# j_opt, _ = Jη(Opt, u= uopt) ; ρ_opt = copy(Opt.ρ_t) \n",
    "# j_opt"
   ]
  },
  {
   "cell_type": "code",
   "execution_count": 17,
   "metadata": {},
   "outputs": [],
   "source": [
    "# xlab = \"J(u) = $(round(j_opt, digits=3))\"\n",
    "# plot_heatmap(Opt, xr, yr, A_t, B_t, rd_num_t, ρ_opt[end], \n",
    "#     filename=\"heatmap_threeways_$algo_final.png\", xlab=xlab)  "
   ]
  },
  {
   "cell_type": "markdown",
   "metadata": {},
   "source": [
    "\n"
   ]
  },
  {
   "cell_type": "code",
   "execution_count": 18,
   "metadata": {},
   "outputs": [],
   "source": [
    "# j_nothing, _ = Jη(Opt, u= uopt*0.) ; ρ_nothing = copy(Opt.ρ_t) \n",
    "# j_nothing"
   ]
  },
  {
   "cell_type": "code",
   "execution_count": 19,
   "metadata": {},
   "outputs": [],
   "source": [
    "# xlab = \"J(u) = $(round(j_nothing, digits=3))\"\n",
    "# plot_heatmap(Opt, xr, yr, A_t, B_t, rd_num_t, ρ_nothing[end], \n",
    "#     filename=\"heatmap_threeways_no_ctrl.png\", xlab=xlab) "
   ]
  },
  {
   "cell_type": "code",
   "execution_count": 20,
   "metadata": {},
   "outputs": [],
   "source": [
    "# j_int - j_opt"
   ]
  },
  {
   "cell_type": "code",
   "execution_count": null,
   "metadata": {},
   "outputs": [],
   "source": []
  },
  {
   "cell_type": "code",
   "execution_count": null,
   "metadata": {},
   "outputs": [],
   "source": []
  },
  {
   "cell_type": "code",
   "execution_count": 21,
   "metadata": {},
   "outputs": [
    {
     "data": {
      "text/plain": [
       "\"/home/mickael/Documents/PhD/Traffic/Dev/trafficroad/Tron/example/threeways\""
      ]
     },
     "execution_count": 21,
     "metadata": {},
     "output_type": "execute_result"
    }
   ],
   "source": [
    "pwd() "
   ]
  },
  {
   "cell_type": "code",
   "execution_count": 22,
   "metadata": {},
   "outputs": [],
   "source": [
    "# ρ_dat = Opt.ρ_t[1] * 0.\n",
    "# ### u0_10111100010000111010110 leads to negatives densities ###\n",
    "# path = \"./data/lane_01010111110000000000000/Nmax_10/u0_1/\"\n",
    "# # path = \"./data/lane_01010111110000000000000/Nmax_10/u0_10111100010000111010110/\"\n",
    "# # path = \"./data/lane_01010111110000000000000/Nmax_10/u0_11111111111111111111111/\"\n",
    "# # path = \"./data/lane_01010111110000000000000/Nmax_10/u0_01101100000101100011010/\"\n",
    "# # path = \"./data/lane_01010111110000000000000/Nmax_10/u0_00000000000000000000000/\"\n",
    "# # path = \"./data/lane_01010111110000000000000/Nmax_14/u0_11111111111111111111111/\"\n",
    "# # path = \"./data/lane_01010111110000000000000/Nmax_14/u0_00000000000000000000000/\"\n",
    "# # path = \"./data/lane_01010111110000000000000/Nmax_23/u0_00000000000000000000000/\"\n",
    "# # path = \"./data/lane_01010111110000000000000/Nmax_23/u0_11111111111111111111111/\"\n",
    "# # path = \"./data/lane_01010111110000000000000/Nmax_4/u0_00000000000000000000000/\"\n",
    "# iter_min = Int(readdlm(path * \"iter_min.csv\")[1])\n",
    "# for k = 1:Opt.Net.Ne\n",
    "#     path_k = path * \"rho_$(k)_$(max(1,iter_min-1))_final.csv\"\n",
    "#     ρ_dat[(k-1)*Opt.Nc+1 : k*Opt.Nc] = readdlm(path_k)\n",
    "# end"
   ]
  },
  {
   "cell_type": "code",
   "execution_count": 23,
   "metadata": {
    "scrolled": true
   },
   "outputs": [
    {
     "data": {
      "text/plain": [
       "\"/home/mickael/Documents/PhD/Traffic/Dev/trafficroad/Tron/example/threeways\""
      ]
     },
     "execution_count": 23,
     "metadata": {},
     "output_type": "execute_result"
    }
   ],
   "source": [
    "pwd() "
   ]
  },
  {
   "cell_type": "markdown",
   "metadata": {},
   "source": [
    "## Plots "
   ]
  },
  {
   "cell_type": "code",
   "execution_count": 24,
   "metadata": {},
   "outputs": [
    {
     "name": "stdout",
     "output_type": "stream",
     "text": [
      "loading data...\n",
      "iter_min_1 = 24\n",
      "... data loaded.\n"
     ]
    }
   ],
   "source": [
    "# path_t = []\n",
    "# loss_t = []\n",
    "# ρs_t   = [] \n",
    "# u_t    = []\n",
    "# Λmax_t = []\n",
    "# norm_Λ_t = []\n",
    "# all_ctrl_t   = []\n",
    "# total_iter_t = []\n",
    "# for k = 1:4\n",
    "#     push!(path_t, \"./data/lane_00010111100000000000000/Nmax_$(Nmax)/u0_$k/\" )\n",
    "#     push!(loss_t, readdlm(path_t[k] * \"J_t.csv\"))\n",
    "#     push!(ρs_t, readdlm(path_t[k] * \"ρopt.csv\"))\n",
    "#     push!(Λmax_t, readdlm(path_t[k] * \"Λmax_t.csv\"))\n",
    "#     push!(norm_Λ_t, readdlm(path_t[k] * \"norm_Λ_t.csv\"))\n",
    "#     iter_min_k = Int(readdlm(path_t[k] * \"iter_min.csv\")[1])\n",
    "#     println(\"iter_min_$k = $iter_min_k\")\n",
    "#     push!(u_t, readdlm(path_t[k] * \"U_$(iter_min_k).csv\")) \n",
    "#     push!(total_iter_t, Int(readdlm(path_t[k] * \"total_iter.csv\")[1]))\n",
    "#     push!(all_ctrl_t, [readdlm(path_t[k] * \"U_$(it).csv\") for it = 0:min(total_iter_t[k], 20) ]   )\n",
    "# end\n",
    "\n",
    "path_t, loss_t, ρs_t, u_t, Λmax_t, norm_Λ_t, first_ctrl_t, last_ctrl_t, total_iter_t, TV_t, Nmax_t = load_data(\"./data/lane_00010111100000000000000/Nmax_$(Nmax)/\");\n",
    "# path_t, loss_t, ρs_t, u_t, Λmax_t, all_ctrl_t ,total_iter_t = load_data(\"./data/lane_00010111100000000000000/Nmax_$(Nmax)/\");"
   ]
  },
  {
   "cell_type": "code",
   "execution_count": null,
   "metadata": {
    "scrolled": true
   },
   "outputs": [],
   "source": [
    "# gr()\n",
    "timeout = final_time .* [0., 0.2, 0.4, 0.6, 0.8, 1.]  \n",
    "#------- CONTROLS -------\n",
    "xu = [1. 23] \n",
    "yu = [0 2.];\n",
    "#-------------------------\n",
    "lane = Bool.([0,0,0,1,0,1,1,1,1,0,0,0,0,0,0,0,0,0,0,0,0,0,0]) \n",
    "ext_lane = extend_lane(lane)\n",
    "for k = 1:1#4\n",
    "    init_dir(\"dir_$k\")\n",
    "    ### threeways\n",
    "    Opt = OptiNetwork(Net; Nmax=Nmax, cfl=0.5, Tf=final_time, Nc=Nc)\n",
    "    init_Optim(Opt) \n",
    "    set_redlane(Opt, lane)\n",
    "    ######################\n",
    "#     plot_heat_ctrl(Opt, xu, yu, u_t[k], xlab=\"Roads\", filename=\"ctrl_opt_$(k).png\");\n",
    "#     plothistory(loss_t[k], title=\"loss_$(algo)_$(k)\", ylabel=\"Jmin\", label=\"loss\", save=true); \n",
    "#     plothistory(norm_Λ_t[k], title=\"||Λ||_$(algo)_$(k)\", ylabel=\"norm(Λ_k)\", label=\"||Λ||_2\", save=true);\n",
    "#     plothistory(Λmax_t[k], title=\"max(|Λ|)_$(algo)_$(k)\", ylabel=\"max(|Λ_k|)\", label=\"max(|Λ|)\", save=true);\n",
    "#     plothistory(TV_t[k], title=\"TotVar_$(k)\", ylabel=\"TV(uk)\", save=true);\n",
    "#     plothistory(Nmax_t[k], title=\"Nmax_$(k)\", ylabel=\"Nmax penalization\", save=true);\n",
    "#     time = 0.; nt = 1; n = 1\n",
    "#     for Δt in Opt.Δt_t\n",
    "#         if abs(time - timeout[n]) < Δt\n",
    "#             loss = dot(ext_lane, ρs_t[k][:,nt]) #! loss without penalization / regularization\n",
    "#             filename = \"heatmap_threeways_$(algo)_$(n).png\"\n",
    "#             xlab = \"T=$(round(time,digits=3)),    J(u) = $(round(loss,digits=3))\"\n",
    "#             plot_heatmap(Opt, xr, yr, A_t, B_t, rd_num_t, ρs_t[k][:,nt], \n",
    "#                 filename=filename, xlab=xlab, title=\"\");\n",
    "#             n += 1\n",
    "#         end\n",
    "#         time += Δt\n",
    "#         nt += 1\n",
    "#     end\n",
    "#     if n < length(timeout)+1\n",
    "#         loss = dot(ext_lane, ρs_t[k][:,end])\n",
    "#         filename = \"heatmap_threeways_$(algo)_$(n).png\"\n",
    "#         xlab = \"T=$(timeout[end]),    J(u) = $(round(loss,digits=3))\"\n",
    "#         plot_heatmap(Opt, xr, yr, A_t, B_t, rd_num_t, ρs_t[k][:,nt], \n",
    "#             filename=filename, xlab=xlab, title=\"\");\n",
    "#     end\n",
    "#     init_dir(\"all_ctrl_$k\")\n",
    "#     for it = 1: min(total_iter_t[k], 20)+1\n",
    "#         plot_heat_ctrl(Opt, xu, yu, first_ctrl_t[k][it], xlab=\"Controlled roads at $(it-1)-th iteration\", filename=\"ctrl_$(k)_iter_$(it-1).png\");\n",
    "#         plot_heat_ctrl(Opt, xu, yu, last_ctrl_t[k][end-it+1], xlab=\"Controlled roads at $(total_iter_t[k]-it+1)-th iteration\", filename=\"ctrl_$(k)_iter_$(total_iter_t[k]-it+1).png\");\n",
    "#     end\n",
    "#     cd(\"..\")\n",
    "    cd(\"..\")\n",
    "end\n",
    "pwd() "
   ]
  },
  {
   "cell_type": "code",
   "execution_count": null,
   "metadata": {},
   "outputs": [],
   "source": [
    "pwd()"
   ]
  },
  {
   "cell_type": "code",
   "execution_count": null,
   "metadata": {},
   "outputs": [],
   "source": [
    "# TVu = TVmat.(u_t)\n",
    "# s = scatter([1, 2, 3, 4], TVu, xticks = (1:4, [L\"u_0=1\";L\"u_0=0.5\";L\"u_0=0\";L\"u_0=u_{int}\"]))\n",
    "# title!(\"Total Variations of \\$u\\$ for different initializations\")\n",
    "# ylabel!(\"TV(u)\")\n",
    "# savefig(s, \"TVu\")"
   ]
  },
  {
   "cell_type": "code",
   "execution_count": null,
   "metadata": {},
   "outputs": [],
   "source": []
  },
  {
   "cell_type": "code",
   "execution_count": null,
   "metadata": {},
   "outputs": [],
   "source": []
  },
  {
   "cell_type": "code",
   "execution_count": null,
   "metadata": {},
   "outputs": [],
   "source": []
  }
 ],
 "metadata": {
  "celltoolbar": "Format de la Cellule Texte Brut",
  "kernelspec": {
   "display_name": "Julia 1.7.2",
   "language": "julia",
   "name": "julia-1.7"
  },
  "language_info": {
   "file_extension": ".jl",
   "mimetype": "application/julia",
   "name": "julia",
   "version": "1.7.2"
  }
 },
 "nbformat": 4,
 "nbformat_minor": 4
}
