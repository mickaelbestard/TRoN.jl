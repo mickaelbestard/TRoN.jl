{
 "cells": [
  {
   "cell_type": "code",
   "execution_count": 12,
   "id": "74c1c4f2",
   "metadata": {},
   "outputs": [],
   "source": [
    "using Tron\n",
    "using Cairo, Compose"
   ]
  },
  {
   "cell_type": "code",
   "execution_count": 13,
   "id": "5e851d04",
   "metadata": {},
   "outputs": [
    {
     "name": "stdout",
     "output_type": "stream",
     "text": [
      "Net : Tron.Network(8, 8, 4, 1, {8, 8} directed simple Int64 graph, Tron.Junction[#undef, #undef, #undef, #undef, #undef, #undef, #undef, #undef], [0 0 0 0 0 0 0 0; 0 0 0 0 0 0 0 0; 0 0 0 0 0 0 0 0; 0 0 0 0 0 0 0 0; 0 0 0 0 0 0 0 0; 0 0 0 0 0 0 0 0; 0 0 0 0 0 0 0 0; 0 0 0 0 0 0 0 0], [0, 0, 0, 0], [0.0, 0.0, 0.0, 0.0], [1.0, 1.0, 1.0, 1.0, 1.0, 1.0, 1.0, 1.0], [1.0, 1.0, 1.0, 1.0, 1.0, 1.0, 1.0, 1.0], [0.5, 0.5, 0.5, 0.5, 0.5, 0.5, 0.5, 0.5], [0.0, 0.0, 0.0, 0.0])\n",
      "Net : Tron.Network(8, 8, 4, 1, {8, 8} directed simple Int64 graph, Tron.Junction[#undef, #undef, #undef, #undef, #undef, #undef, #undef, #undef], [0 0 0 0 0 0 0 0; 0 0 0 0 0 0 0 0; 0 0 0 0 0 0 0 0; 0 0 0 0 0 0 0 0; 0 0 0 0 0 0 0 0; 0 0 0 0 0 0 0 0; 0 0 0 0 0 0 0 0; 0 0 0 0 0 0 0 0], [0, 0, 0, 0], [0.0, 0.0, 0.0, 0.0], [1.0, 1.0, 1.0, 1.0, 1.0, 1.0, 1.0, 1.0], [1.0, 1.0, 1.0, 1.0, 1.0, 1.0, 1.0, 1.0], [0.5, 0.5, 0.5, 0.5, 0.5, 0.5, 0.5, 0.5], [0.0, 0.0, 0.0, 0.0])\n",
      "Net : Tron.Network(8, 8, 4, 1, {8, 8} directed simple Int64 graph, Tron.Junction[#undef, #undef, #undef, #undef, #undef, #undef, #undef, #undef], [0 0 0 0 0 0 0 0; 0 0 0 0 0 0 0 0; 0 0 0 0 0 0 0 0; 0 0 0 0 0 0 0 0; 0 0 0 0 0 0 0 0; 0 0 0 0 0 0 0 0; 0 0 0 0 0 0 0 0; 0 0 0 0 0 0 0 0], [0, 0, 0, 0], [0.0, 0.0, 0.0, 0.0], [1.0, 1.0, 1.0, 1.0, 1.0, 1.0, 1.0, 1.0], [1.0, 1.0, 1.0, 1.0, 1.0, 1.0, 1.0, 1.0], [0.5, 0.5, 0.5, 0.5, 0.5, 0.5, 0.5, 0.5], [0.0, 0.0, 0.0, 0.0])\n"
     ]
    }
   ],
   "source": [
    "net1 = traffic_circle_v1_graph(1., 8);\n",
    "net2 = traffic_circle_v2_graph(1., 8);\n",
    "net3 = traffic_circle_v3_graph(1., 8);"
   ]
  },
  {
   "cell_type": "code",
   "execution_count": 14,
   "id": "e01e65a7",
   "metadata": {},
   "outputs": [
    {
     "data": {
      "text/plain": [
       "{8, 8} directed simple Int64 graph"
      ]
     },
     "execution_count": 14,
     "metadata": {},
     "output_type": "execute_result"
    }
   ],
   "source": [
    "g1 = net1.graph\n",
    "g2 = net2.graph\n",
    "g3 = net3.graph"
   ]
  },
  {
   "cell_type": "code",
   "execution_count": 15,
   "id": "73286f35",
   "metadata": {},
   "outputs": [],
   "source": [
    "gp1 = gplot(g1, nodelabel=vertices(g1), edgelabel=[\"$k\" for k in 1:length(edges(g1))])\n",
    "draw(PNG(\"g_v1.png\", 16cm, 16cm), gp1);"
   ]
  },
  {
   "cell_type": "code",
   "execution_count": 16,
   "id": "4576cdc4",
   "metadata": {},
   "outputs": [],
   "source": [
    "gp2 = gplot(g2, nodelabel=vertices(g2), edgelabel=[\"$k\" for k in 1:length(edges(g2))])\n",
    "draw(PNG(\"g_v2.png\", 16cm, 16cm), gp2);"
   ]
  },
  {
   "cell_type": "code",
   "execution_count": 17,
   "id": "3da92364",
   "metadata": {},
   "outputs": [],
   "source": [
    "gp3 = gplot(g3, nodelabel=vertices(g3), edgelabel=[\"$k\" for k in 1:length(edges(g3))])\n",
    "draw(PNG(\"g_v3.png\", 16cm, 16cm), gp3);"
   ]
  },
  {
   "cell_type": "code",
   "execution_count": null,
   "id": "88b596bb",
   "metadata": {},
   "outputs": [],
   "source": []
  },
  {
   "cell_type": "code",
   "execution_count": null,
   "id": "7b0d847f",
   "metadata": {},
   "outputs": [],
   "source": []
  }
 ],
 "metadata": {
  "kernelspec": {
   "display_name": "Julia 1.7.2",
   "language": "julia",
   "name": "julia-1.7"
  },
  "language_info": {
   "file_extension": ".jl",
   "mimetype": "application/julia",
   "name": "julia",
   "version": "1.7.2"
  }
 },
 "nbformat": 4,
 "nbformat_minor": 5
}
